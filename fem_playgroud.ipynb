{
 "cells": [
  {
   "cell_type": "code",
   "execution_count": 5,
   "metadata": {
    "collapsed": false
   },
   "outputs": [
    {
     "name": "stdout",
     "output_type": "stream",
     "text": [
      "Populating the interactive namespace from numpy and matplotlib\n"
     ]
    }
   ],
   "source": [
    "%pylab inline\n",
    "import numpy as np\n",
    "from numpy.polynomial.polynomial import Polynomial"
   ]
  },
  {
   "cell_type": "markdown",
   "metadata": {},
   "source": [
    "# Intro to FEM"
   ]
  },
  {
   "cell_type": "markdown",
   "metadata": {},
   "source": [
    "Finite Elements Method is the 'Art' of projecting an operator in the most suitable space. \n",
    "\n",
    "### Projection: from Plane Geometry to Functional Analysis\n",
    "\n",
    "Projecting a two dimentional vector $\\mathbf{u} = (u_x, u_y)$ on the canonical basis $\\{\\mathbf{e}_x = (1,0), \\mathbf{e}_y = (0,1)\\}$, roughly speacking the $x$ and $y$ axes, is a weel known operation:\n",
    "\n",
    "$$\n",
    "\\mathbf{u} = u_x \\cdot \\mathbf{e}_x + u_y \\cdot \\mathbf{e}_y.\n",
    "$$\n",
    "\n",
    "If $u$ is a function defined on a domain $\\Omega$ (and not a vector anymore) the $+$ sign is substituted by the integral over all the domain $\\int_\\Omega$. \n",
    "\n",
    "The canonical basis $\\{\\mathbf{e}_x, \\mathbf{e}_y\\}$ is substituted by another set $V$ wich is very similar to our canonincal basis, but has the very convenient chracteristic of being infinite:\n",
    "\n",
    "$$\n",
    "V = \\{v_0, v_1, v_2, ..., v_\\infty\\}\n",
    "$$\n",
    "\n",
    "Now let's gradually move form the geometrical progection to the functional analysis projection. In plain geometry we sum all the $\\mathbf{u}$ coponents, multiplied for all the basis vectors defining my space:\n",
    "\n",
    "\n",
    "$$\n",
    "u_x \\cdot \\mathbf{e}_x + u_y \\cdot \\mathbf{e}_y.\n",
    "$$\n",
    "\n",
    "Now we need only to substitute the word 'sum', with the $\\int_\\Omega$, and mathe matically write 'for all the basis functions in the space that I choose' ($\\forall v \\in V$), and we obtain the expression:\n",
    "\n",
    "$$\n",
    "\\int_\\Omega u\\cdot v \\quad \\forall v \\in V\n",
    "$$\n",
    "\n",
    "That's it. There are a lot theorems and elegant mathemathis in between these two expressions, but the ground foundations are not much more complicated than this.\n",
    "\n"
   ]
  },
  {
   "cell_type": "markdown",
   "metadata": {},
   "source": [
    "## Computational Mechanics\n",
    "\n",
    "A simple mathematical tool like 'projection' can be effectively applied to computational mechanics. Mechanical phenomenca can be described by partial differential equations, and the resulting expressions can be very nasty. Let's bring up a couple of examples, called **strong formulations**.\n",
    "\n",
    "- Heat Equation, $u$ is the temperature $f$ is the heat source\n",
    "\n",
    "$$\n",
    "\\Delta u = \\partial_{xx} u + \\partial_{yy} u= f \n",
    "$$\n",
    "\n",
    "- Linear Elasticity $\\mathbf{u}$ is the displacement, $\\mathbf{F}$ are the external forces.\n",
    "\n",
    "$$\n",
    "\\nabla \\cdot \\left(C:\\left(\\frac{1}{2}\\left(\\nabla \\mathbf{u}+\\nabla \\mathbf{u}^T\\right)\\right)\\right) = \\mathbf{F}\n",
    "$$\n",
    "\n",
    "It is clear that these operats look and, most of the times, are nasty. It is thanks to Galerkin's (and many otherthers') intuition that sounded like a good idea to _project_ *operators*, onto *functions spaces*. In this way we can have a more *flexible* expression, called **weak formulation**:\n",
    "\n",
    "- Heat Equation\n",
    "\n",
    "$$\n",
    "\\Delta u = f \\rightarrow \\quad \\int_\\Omega \\Delta u\\cdot v = \\int_\\Omega f\\cdot v \\rightarrow \\quad  \\int_\\Omega \\nabla u\\cdot \\nabla v = \\int_\\Omega f\\cdot v\\quad  \\forall v \\in V\n",
    "$$\n",
    "\n",
    "- Linear Elasticity\n",
    "\n",
    "$$\n",
    "\\mu \\int_\\Omega\\mathbf{D}\\mathbf{u}:\\mathbf{D}\\mathbf{v} + \n",
    "\\lambda \\int_\\Omega\\nabla\\cdot\\mathbf{u}\\, \\nabla\\cdot\\mathbf{v} =\n",
    "\\int_\\Omega \\mathbf{F}\\quad \\forall v \\in V\n",
    "$$"
   ]
  },
  {
   "cell_type": "markdown",
   "metadata": {},
   "source": []
  },
  {
   "cell_type": "markdown",
   "metadata": {},
   "source": [
    "## Reference Element"
   ]
  },
  {
   "cell_type": "code",
   "execution_count": 9,
   "metadata": {
    "collapsed": false
   },
   "outputs": [
    {
     "name": "stdout",
     "output_type": "stream",
     "text": [
      "[ 0.   0.5  1. ]\n"
     ]
    }
   ],
   "source": [
    "degree = 2\n",
    "dofs = np.linspace(0,1,degree+1)\n",
    "print dofs"
   ]
  },
  {
   "cell_type": "markdown",
   "metadata": {},
   "source": [
    "```\n",
    "element     |-----|\n",
    "1st degree  o-----o\n",
    "2nd degree  o--o--o\n",
    "3rd degree  o-o-o-o\n",
    "```"
   ]
  },
  {
   "cell_type": "code",
   "execution_count": 10,
   "metadata": {
    "collapsed": false
   },
   "outputs": [],
   "source": [
    "L = [Polynomial.fromroots([xj for xj in dofs if xj != dofs[i]]) for i in range(degree+1)]\n",
    "L = [L[i]/L[i](dofs[i]) for i in range(degree+1)]"
   ]
  },
  {
   "cell_type": "code",
   "execution_count": 11,
   "metadata": {
    "collapsed": false
   },
   "outputs": [
    {
     "data": {
      "text/plain": [
       "[<matplotlib.lines.Line2D at 0x10b6a47d0>]"
      ]
     },
     "execution_count": 11,
     "metadata": {},
     "output_type": "execute_result"
    },
    {
     "data": {
      "image/png": "[encoded data removed]",
      "text/plain": [
       "<matplotlib.figure.Figure at 0x10895b990>"
      ]
     },
     "metadata": {},
     "output_type": "display_data"
    }
   ],
   "source": [
    "xi = linspace(0,1,1025)\n",
    "for f in L:\n",
    "    plot(xi, f(xi))\n",
    "plot(dofs, 0*dofs, 'ro')"
   ]
  },
  {
   "cell_type": "code",
   "execution_count": null,
   "metadata": {
    "collapsed": true
   },
   "outputs": [],
   "source": []
  }
 ],
 "metadata": {
  "kernelspec": {
   "display_name": "Python 2",
   "language": "python",
   "name": "python2"
  },
  "language_info": {
   "codemirror_mode": {
    "name": "ipython",
    "version": 2
   },
   "file_extension": ".py",
   "mimetype": "text/x-python",
   "name": "python",
   "nbconvert_exporter": "python",
   "pygments_lexer": "ipython2",
   "version": "2.7.13"
  }
 },
 "nbformat": 4,
 "nbformat_minor": 2
}
